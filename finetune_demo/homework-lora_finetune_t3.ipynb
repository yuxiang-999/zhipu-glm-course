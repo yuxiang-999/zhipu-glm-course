{
 "cells": [
  {
   "cell_type": "markdown",
   "id": "89b89f64d8f8053d",
   "metadata": {
    "collapsed": false,
    "jupyter": {
     "outputs_hidden": false
    }
   },
   "source": [
    "# 单卡GPU 进行 ChatGLM3-6B模型 LORA 高效微调\n",
    "本 Cookbook 将带领开发者使用 `AdvertiseGen` 对 ChatGLM3-6B 数据集进行 lora微调，使其具备专业的广告生成能力。\n",
    "\n",
    "## 硬件需求\n",
    "显存：24GB\n",
    "显卡架构：安培架构（推荐）\n",
    "内存：16GB"
   ]
  },
  {
   "cell_type": "markdown",
   "id": "a7bd9a514ed09ea6",
   "metadata": {
    "collapsed": false,
    "jupyter": {
     "outputs_hidden": false
    }
   },
   "source": [
    "## 1. 准备数据集\n",
    "我们使用 AdvertiseGen 数据集来进行微调。从 [Google Drive](https://drive.google.com/file/d/13_vf0xRTQsyneRKdD1bZIr93vBGOczrk/view?usp=sharing) 或者 [Tsinghua Cloud](https://cloud.tsinghua.edu.cn/f/b3f119a008264b1cabd1/?dl=1) 下载处理好的 AdvertiseGen 数据集，将解压后的 AdvertiseGen 目录放到本目录的 `/data/` 下, 例如。\n",
    "> /media/zr/Data/Code/ChatGLM3/finetune_demo/data/AdvertiseGen\n",
    "\n",
    "接着，运行本代码来切割数据集"
   ]
  },
  {
   "cell_type": "code",
   "execution_count": 1,
   "id": "initial_id",
   "metadata": {
    "ExecuteTime": {
     "end_time": "2024-01-18T05:02:34.749308Z",
     "start_time": "2024-01-18T05:02:25.564458Z"
    },
    "execution": {
     "iopub.execute_input": "2024-03-26T12:39:11.258063Z",
     "iopub.status.busy": "2024-03-26T12:39:11.257657Z",
     "iopub.status.idle": "2024-03-26T12:39:12.532830Z",
     "shell.execute_reply": "2024-03-26T12:39:12.531800Z",
     "shell.execute_reply.started": "2024-03-26T12:39:11.258023Z"
    }
   },
   "outputs": [],
   "source": [
    "import json\n",
    "from typing import Union\n",
    "from pathlib import Path\n",
    "\n",
    "\n",
    "def _resolve_path(path: Union[str, Path]) -> Path:\n",
    "    return Path(path).expanduser().resolve()\n",
    "\n",
    "\n",
    "def _mkdir(dir_name: Union[str, Path]):\n",
    "    dir_name = _resolve_path(dir_name)\n",
    "    if not dir_name.is_dir():\n",
    "        dir_name.mkdir(parents=True, exist_ok=False)\n",
    "\n",
    "\n",
    "def convert_adgen(data_dir: Union[str, Path], save_dir: Union[str, Path]):\n",
    "    def _convert(in_file: Path, out_file: Path):\n",
    "        _mkdir(out_file.parent)\n",
    "        with open(in_file, encoding='utf-8') as fin:\n",
    "            with open(out_file, 'wt', encoding='utf-8') as fout:\n",
    "                for line in fin:\n",
    "                    dct = json.loads(line)\n",
    "                    sample = {'conversations': [{'role': 'user', 'content': dct['content']},\n",
    "                                                {'role': 'assistant', 'content': dct['summary']}]}\n",
    "                    fout.write(json.dumps(sample, ensure_ascii=False) + '\\n')\n",
    "\n",
    "    data_dir = _resolve_path(data_dir)\n",
    "    save_dir = _resolve_path(save_dir)\n",
    "\n",
    "    train_file = data_dir / 'train.json'\n",
    "    if train_file.is_file():\n",
    "        out_file = save_dir / train_file.relative_to(data_dir)\n",
    "        _convert(train_file, out_file)\n",
    "\n",
    "    dev_file = data_dir / 'dev.json'\n",
    "    if dev_file.is_file():\n",
    "        out_file = save_dir / dev_file.relative_to(data_dir)\n",
    "        _convert(dev_file, out_file)\n",
    "\n",
    "\n",
    "convert_adgen('data/AdvertiseGen', 'data/AdvertiseGen_fix')"
   ]
  },
  {
   "cell_type": "markdown",
   "id": "a1b7a99923349056",
   "metadata": {
    "collapsed": false,
    "jupyter": {
     "outputs_hidden": false
    }
   },
   "source": [
    "## 2. 使用命令行开始微调,我们使用 lora 进行微调\n",
    "接着，我们仅需要将配置好的参数以命令行的形式传参给程序，就可以使用命令行进行高效微调，这里将 `/media/zr/Data/Code/ChatGLM3/venv/bin/python3` 换成你的 python3 的绝对路径以保证正常运行。"
   ]
  },
  {
   "cell_type": "code",
   "execution_count": 1,
   "id": "050b5efb-0968-489f-bfc1-53798b36c70a",
   "metadata": {
    "execution": {
     "iopub.execute_input": "2024-03-27T05:28:12.422748Z",
     "iopub.status.busy": "2024-03-27T05:28:12.422306Z",
     "iopub.status.idle": "2024-03-27T05:28:12.554654Z",
     "shell.execute_reply": "2024-03-27T05:28:12.553192Z",
     "shell.execute_reply.started": "2024-03-27T05:28:12.422704Z"
    }
   },
   "outputs": [
    {
     "name": "stdout",
     "output_type": "stream",
     "text": [
      "data_config:\n",
      "  train_file: train.json\n",
      "  val_file: dev.json\n",
      "  test_file: dev.json\n",
      "  num_proc: 24\n",
      "max_input_length: 128\n",
      "max_output_length: 256\n",
      "training_args:\n",
      "  # see `transformers.Seq2SeqTrainingArguments`\n",
      "  output_dir: ./output\n",
      "  max_steps: 3000\n",
      "  # settings for data loading\n",
      "  per_device_train_batch_size: 4\n",
      "  dataloader_num_workers: 24\n",
      "  remove_unused_columns: false\n",
      "  # settings for saving checkpoints\n",
      "  save_strategy: steps\n",
      "  save_steps: 1000\n",
      "  # settings for logging\n",
      "  log_level: info\n",
      "  logging_strategy: steps\n",
      "  logging_steps: 100\n",
      "  # settings for evaluation\n",
      "  per_device_eval_batch_size: 16\n",
      "  evaluation_strategy: steps\n",
      "  eval_steps: 1500\n",
      "  # settings for optimizer\n",
      "  # adam_epsilon: 1e-6\n",
      "  # uncomment the following line to detect nan or inf values\n",
      "  # debug: underflow_overflow\n",
      "  predict_with_generate: true\n",
      "  # see `transformers.GenerationConfig`\n",
      "  generation_config:\n",
      "    max_new_tokens: 256\n",
      "  # set your absolute deepspeed path here\n",
      "  #deepspeed: ds_zero_2.json\n",
      "  # set to true if train with cpu.\n",
      "  use_cpu: false\n",
      "peft_config:\n",
      "  peft_type: LORA\n",
      "  task_type: CAUSAL_LM\n",
      "  r: 8\n",
      "  lora_alpha: 64\n",
      "  lora_dropout: 0.1\n"
     ]
    }
   ],
   "source": [
    "!cat configs/lora.yaml"
   ]
  },
  {
   "cell_type": "code",
   "execution_count": 2,
   "id": "17c87410a24d844f",
   "metadata": {
    "ExecuteTime": {
     "end_time": "2024-01-18T06:44:56.043246Z",
     "start_time": "2024-01-18T05:05:28.425374Z"
    },
    "collapsed": false,
    "execution": {
     "iopub.execute_input": "2024-03-27T05:28:13.242509Z",
     "iopub.status.busy": "2024-03-27T05:28:13.242025Z",
     "iopub.status.idle": "2024-03-27T06:16:36.699956Z",
     "shell.execute_reply": "2024-03-27T06:16:36.698361Z",
     "shell.execute_reply.started": "2024-03-27T05:28:13.242454Z"
    },
    "jupyter": {
     "outputs_hidden": false
    }
   },
   "outputs": [
    {
     "name": "stdout",
     "output_type": "stream",
     "text": [
      "Loading checkpoint shards: 100%|██████████████████| 7/7 [00:02<00:00,  3.21it/s]\n",
      "trainable params: 1,949,696 || all params: 6,245,533,696 || trainable%: 0.031217444255383614\n",
      "--> Model\n",
      "\n",
      "--> model has 1.949696M params\n",
      "\n",
      "train_dataset: Dataset({\n",
      "    features: ['input_ids', 'labels'],\n",
      "    num_rows: 114599\n",
      "})\n",
      "val_dataset: Dataset({\n",
      "    features: ['input_ids', 'output_ids'],\n",
      "    num_rows: 1070\n",
      "})\n",
      "test_dataset: Dataset({\n",
      "    features: ['input_ids', 'output_ids'],\n",
      "    num_rows: 1070\n",
      "})\n",
      "--> Sanity check\n",
      "           '[gMASK]': 64790 -> -100\n",
      "               'sop': 64792 -> -100\n",
      "          '<|user|>': 64795 -> -100\n",
      "                  '': 30910 -> -100\n",
      "                '\\n': 13 -> -100\n",
      "                  '': 30910 -> -100\n",
      "                '类型': 33467 -> -100\n",
      "                 '#': 31010 -> -100\n",
      "                 '裤': 56532 -> -100\n",
      "                 '*': 30998 -> -100\n",
      "                 '版': 55090 -> -100\n",
      "                 '型': 54888 -> -100\n",
      "                 '#': 31010 -> -100\n",
      "                '宽松': 40833 -> -100\n",
      "                 '*': 30998 -> -100\n",
      "                '风格': 32799 -> -100\n",
      "                 '#': 31010 -> -100\n",
      "                '性感': 40589 -> -100\n",
      "                 '*': 30998 -> -100\n",
      "                '图案': 37505 -> -100\n",
      "                 '#': 31010 -> -100\n",
      "                '线条': 37216 -> -100\n",
      "                 '*': 30998 -> -100\n",
      "                 '裤': 56532 -> -100\n",
      "                 '型': 54888 -> -100\n",
      "                 '#': 31010 -> -100\n",
      "                 '阔': 56529 -> -100\n",
      "                 '腿': 56158 -> -100\n",
      "                 '裤': 56532 -> -100\n",
      "     '<|assistant|>': 64796 -> -100\n",
      "                  '': 30910 -> 30910\n",
      "                '\\n': 13 -> 13\n",
      "                  '': 30910 -> 30910\n",
      "                '宽松': 40833 -> 40833\n",
      "                 '的': 54530 -> 54530\n",
      "                 '阔': 56529 -> 56529\n",
      "                 '腿': 56158 -> 56158\n",
      "                 '裤': 56532 -> 56532\n",
      "                 '这': 54551 -> 54551\n",
      "                '两年': 33808 -> 33808\n",
      "                '真的': 32041 -> 32041\n",
      "                 '吸': 55360 -> 55360\n",
      "                 '粉': 55486 -> 55486\n",
      "                '不少': 32138 -> 32138\n",
      "                 '，': 31123 -> 31123\n",
      "                '明星': 32943 -> 32943\n",
      "                '时尚': 33481 -> 33481\n",
      "                 '达': 54880 -> 54880\n",
      "                '人的': 31664 -> 31664\n",
      "                '心头': 46565 -> 46565\n",
      "                 '爱': 54799 -> 54799\n",
      "                 '。': 31155 -> 31155\n",
      "                '毕竟': 33051 -> 33051\n",
      "                 '好': 54591 -> 54591\n",
      "                 '穿': 55432 -> 55432\n",
      "                '时尚': 33481 -> 33481\n",
      "                 '，': 31123 -> 31123\n",
      "                 '谁': 55622 -> 55622\n",
      "                '都能': 32904 -> 32904\n",
      "                 '穿': 55432 -> 55432\n",
      "                 '出': 54557 -> 54557\n",
      "                 '腿': 56158 -> 56158\n",
      "                 '长': 54625 -> 54625\n",
      "                 '2': 30943 -> 30943\n",
      "                 '米': 55055 -> 55055\n",
      "               '的效果': 35590 -> 35590\n",
      "                '宽松': 40833 -> 40833\n",
      "                 '的': 54530 -> 54530\n",
      "                 '裤': 56532 -> 56532\n",
      "                 '腿': 56158 -> 56158\n",
      "                 '，': 31123 -> 31123\n",
      "               '当然是': 48466 -> 48466\n",
      "                 '遮': 57148 -> 57148\n",
      "                 '肉': 55343 -> 55343\n",
      "                 '小': 54603 -> 54603\n",
      "                '能手': 49355 -> 49355\n",
      "                 '啊': 55674 -> 55674\n",
      "                 '。': 31155 -> 31155\n",
      "                '上身': 51605 -> 51605\n",
      "                 '随': 55119 -> 55119\n",
      "                 '性': 54642 -> 54642\n",
      "                '自然': 31799 -> 31799\n",
      "                 '不': 54535 -> 54535\n",
      "                 '拘': 57036 -> 57036\n",
      "                 '束': 55625 -> 55625\n",
      "                 '，': 31123 -> 31123\n",
      "                '面料': 46839 -> 46839\n",
      "                 '亲': 55113 -> 55113\n",
      "                 '肤': 56089 -> 56089\n",
      "                '舒适': 33894 -> 33894\n",
      "                 '贴': 55778 -> 55778\n",
      "                '身体': 31902 -> 31902\n",
      "                 '验': 55017 -> 55017\n",
      "                 '感': 54706 -> 54706\n",
      "                 '棒': 56382 -> 56382\n",
      "                 '棒': 56382 -> 56382\n",
      "                 '哒': 59230 -> 59230\n",
      "                 '。': 31155 -> 31155\n",
      "                 '系': 54712 -> 54712\n",
      "                 '带': 54882 -> 54882\n",
      "                '部分': 31726 -> 31726\n",
      "                '增加': 31917 -> 31917\n",
      "                '设计': 31735 -> 31735\n",
      "                '看点': 45032 -> 45032\n",
      "                 '，': 31123 -> 31123\n",
      "                 '还': 54656 -> 54656\n",
      "                 '让': 54772 -> 54772\n",
      "                '单品': 46539 -> 46539\n",
      "               '的设计': 34481 -> 34481\n",
      "                 '感': 54706 -> 54706\n",
      "                '更强': 43084 -> 43084\n",
      "                 '。': 31155 -> 31155\n",
      "                '腿部': 46799 -> 46799\n",
      "                '线条': 37216 -> 37216\n",
      "                 '若': 55351 -> 55351\n",
      "                 '隐': 55733 -> 55733\n",
      "                 '若': 55351 -> 55351\n",
      "                 '现': 54600 -> 54600\n",
      "                 '的': 54530 -> 54530\n",
      "                 '，': 31123 -> 31123\n",
      "                '性感': 40589 -> 40589\n",
      "                 '撩': 58521 -> 58521\n",
      "                 '人': 54533 -> 54533\n",
      "                 '。': 31155 -> 31155\n",
      "                '颜色': 33692 -> 33692\n",
      "                 '敲': 57004 -> 57004\n",
      "                '温柔': 34678 -> 34678\n",
      "                 '的': 54530 -> 54530\n",
      "                 '，': 31123 -> 31123\n",
      "                 '与': 54619 -> 54619\n",
      "                '裤子': 44722 -> 44722\n",
      "                '本身': 32754 -> 32754\n",
      "                 '所': 54626 -> 54626\n",
      "                '呈现': 33169 -> 33169\n",
      "               '的风格': 48084 -> 48084\n",
      "                '有点': 33149 -> 33149\n",
      "                 '反': 54955 -> 54955\n",
      "                 '差': 55342 -> 55342\n",
      "                 '萌': 56842 -> 56842\n",
      "                 '。': 31155 -> 31155\n",
      "                  '': 2 -> 2\n",
      "Detected kernel version 5.4.0, which is below the recommended minimum of 5.5.0; this can cause the process to hang. It is recommended to upgrade the kernel to the minimum version or higher.\n",
      "max_steps is given, it will override any value given in num_train_epochs\n",
      "***** Running training *****\n",
      "  Num examples = 114,599\n",
      "  Num Epochs = 1\n",
      "  Instantaneous batch size per device = 4\n",
      "  Total train batch size (w. parallel, distributed & accumulation) = 4\n",
      "  Gradient Accumulation steps = 1\n",
      "  Total optimization steps = 3,000\n",
      "  Number of trainable parameters = 1,949,696\n",
      "{'loss': 4.0437, 'learning_rate': 4.8333333333333334e-05, 'epoch': 0.0}         \n",
      "{'loss': 3.5877, 'learning_rate': 4.666666666666667e-05, 'epoch': 0.01}         \n",
      "{'loss': 3.5089, 'learning_rate': 4.5e-05, 'epoch': 0.01}                       \n",
      "{'loss': 3.5106, 'learning_rate': 4.3333333333333334e-05, 'epoch': 0.01}        \n",
      "{'loss': 3.4457, 'learning_rate': 4.166666666666667e-05, 'epoch': 0.02}         \n",
      "{'loss': 3.453, 'learning_rate': 4e-05, 'epoch': 0.02}                          \n",
      "{'loss': 3.4865, 'learning_rate': 3.8333333333333334e-05, 'epoch': 0.02}        \n",
      "{'loss': 3.4314, 'learning_rate': 3.6666666666666666e-05, 'epoch': 0.03}        \n",
      "{'loss': 3.4405, 'learning_rate': 3.5e-05, 'epoch': 0.03}                       \n",
      "{'loss': 3.4014, 'learning_rate': 3.3333333333333335e-05, 'epoch': 0.03}        \n",
      " 33%|█████████████                          | 1000/3000 [13:17<27:21,  1.22it/s]Saving model checkpoint to ./output/tmp-checkpoint-1000\n",
      "tokenizer config file saved in ./output/tmp-checkpoint-1000/tokenizer_config.json\n",
      "Special tokens file saved in ./output/tmp-checkpoint-1000/special_tokens_map.json\n",
      "{'loss': 3.3938, 'learning_rate': 3.1666666666666666e-05, 'epoch': 0.04}        \n",
      "{'loss': 3.3807, 'learning_rate': 3e-05, 'epoch': 0.04}                         \n",
      "{'loss': 3.4015, 'learning_rate': 2.8333333333333335e-05, 'epoch': 0.05}        \n",
      "{'loss': 3.3906, 'learning_rate': 2.6666666666666667e-05, 'epoch': 0.05}        \n",
      "{'loss': 3.3539, 'learning_rate': 2.5e-05, 'epoch': 0.05}                       \n",
      " 50%|███████████████████▌                   | 1500/3000 [20:01<20:04,  1.24it/s]***** Running Evaluation *****\n",
      "  Num examples = 50\n",
      "  Batch size = 16\n",
      "\n",
      "  0%|                                                     | 0/4 [00:00<?, ?it/s]\u001b[A\n",
      " 50%|██████████████████████▌                      | 2/4 [00:13<00:13,  6.81s/it]\u001b[A\n",
      " 75%|█████████████████████████████████▊           | 3/4 [00:27<00:09,  9.59s/it]\u001b[A\n",
      "100%|█████████████████████████████████████████████| 4/4 [00:37<00:00,  9.91s/it]\u001b[ABuilding prefix dict from the default dictionary ...\n",
      "Loading model from cache /tmp/jieba.cache\n",
      "Loading model cost 0.706 seconds.\n",
      "Prefix dict has been built successfully.\n",
      "                                                                                \n",
      "\u001b[A{'eval_rouge-1': 31.586751999999997, 'eval_rouge-2': 6.970532, 'eval_rouge-l': 24.248463999999995, 'eval_bleu-4': 0.03425403857753857, 'eval_runtime': 44.5985, 'eval_samples_per_second': 1.121, 'eval_steps_per_second': 0.09, 'epoch': 0.05}\n",
      " 50%|███████████████████▌                   | 1500/3000 [20:46<20:04,  1.24it/s]\n",
      "100%|█████████████████████████████████████████████| 4/4 [00:38<00:00,  9.91s/it]\u001b[A\n",
      "{'loss': 3.3729, 'learning_rate': 2.3333333333333336e-05, 'epoch': 0.06}        \u001b[A\n",
      "{'loss': 3.3642, 'learning_rate': 2.1666666666666667e-05, 'epoch': 0.06}        \n",
      "{'loss': 3.3972, 'learning_rate': 2e-05, 'epoch': 0.06}                         \n",
      "{'loss': 3.3609, 'learning_rate': 1.8333333333333333e-05, 'epoch': 0.07}        \n",
      "{'loss': 3.3623, 'learning_rate': 1.6666666666666667e-05, 'epoch': 0.07}        \n",
      " 67%|██████████████████████████             | 2000/3000 [27:26<13:45,  1.21it/s]Saving model checkpoint to ./output/tmp-checkpoint-2000\n",
      "tokenizer config file saved in ./output/tmp-checkpoint-2000/tokenizer_config.json\n",
      "Special tokens file saved in ./output/tmp-checkpoint-2000/special_tokens_map.json\n",
      "{'loss': 3.351, 'learning_rate': 1.5e-05, 'epoch': 0.07}                        \n",
      "{'loss': 3.3567, 'learning_rate': 1.3333333333333333e-05, 'epoch': 0.08}        \n",
      "{'loss': 3.3428, 'learning_rate': 1.1666666666666668e-05, 'epoch': 0.08}        \n",
      "{'loss': 3.3698, 'learning_rate': 1e-05, 'epoch': 0.08}                         \n",
      "{'loss': 3.3619, 'learning_rate': 8.333333333333334e-06, 'epoch': 0.09}         \n",
      "{'loss': 3.3283, 'learning_rate': 6.666666666666667e-06, 'epoch': 0.09}         \n",
      "{'loss': 3.3515, 'learning_rate': 5e-06, 'epoch': 0.09}                         \n",
      "{'loss': 3.3245, 'learning_rate': 3.3333333333333333e-06, 'epoch': 0.1}         \n",
      "{'loss': 3.3764, 'learning_rate': 1.6666666666666667e-06, 'epoch': 0.1}         \n",
      "{'loss': 3.3544, 'learning_rate': 0.0, 'epoch': 0.1}                            \n",
      "100%|███████████████████████████████████████| 3000/3000 [40:49<00:00,  1.24it/s]***** Running Evaluation *****\n",
      "  Num examples = 50\n",
      "  Batch size = 16\n",
      "\n",
      "  0%|                                                     | 0/4 [00:00<?, ?it/s]\u001b[A\n",
      " 50%|██████████████████████▌                      | 2/4 [00:10<00:10,  5.39s/it]\u001b[A\n",
      " 75%|█████████████████████████████████▊           | 3/4 [00:14<00:04,  4.81s/it]\u001b[A\n",
      "                                                                                \u001b[A\n",
      "\u001b[A{'eval_rouge-1': 32.267402, 'eval_rouge-2': 7.204286, 'eval_rouge-l': 25.529636, 'eval_bleu-4': 0.03642196944809043, 'eval_runtime': 23.7543, 'eval_samples_per_second': 2.105, 'eval_steps_per_second': 0.168, 'epoch': 0.1}\n",
      "100%|███████████████████████████████████████| 3000/3000 [41:12<00:00,  1.24it/s]\n",
      "100%|█████████████████████████████████████████████| 4/4 [00:18<00:00,  4.27s/it]\u001b[A\n",
      "                                                                                \u001b[ASaving model checkpoint to ./output/tmp-checkpoint-3000\n",
      "tokenizer config file saved in ./output/tmp-checkpoint-3000/tokenizer_config.json\n",
      "Special tokens file saved in ./output/tmp-checkpoint-3000/special_tokens_map.json\n",
      "\n",
      "\n",
      "Training completed. Do not forget to share your model on huggingface.co/models =)\n",
      "\n",
      "\n",
      "{'train_runtime': 2473.0419, 'train_samples_per_second': 4.852, 'train_steps_per_second': 1.213, 'train_loss': 3.4201569010416666, 'epoch': 0.1}\n",
      "100%|███████████████████████████████████████| 3000/3000 [41:13<00:00,  1.21it/s]\n",
      "***** Running Prediction *****\n",
      "  Num examples = 1070\n",
      "  Batch size = 16\n",
      "100%|███████████████████████████████████████████| 67/67 [06:50<00:00,  6.13s/it]\n"
     ]
    }
   ],
   "source": [
    "!export python_dir='/home/yuxiang/miniconda3/envs/py311_llm_dev/bin' \\\n",
    "&& export base_model_dir='/home/yuxiang/local/ai_workspace/.cache/huggingface/hub/models--THUDM--chatglm3-6b/snapshots/f30825950ce00cb0577bf6a15e0d95de58e328dc' \\\n",
    "&& export CUDA_VISIBLE_DEVICES=0 \\\n",
    "&& ${python_dir}/python3 finetune_hf.py  data/AdvertiseGen_fix  ${base_model_dir}  configs/lora.yaml"
   ]
  },
  {
   "cell_type": "markdown",
   "id": "d9418f6c5c264601",
   "metadata": {
    "collapsed": false,
    "jupyter": {
     "outputs_hidden": false
    }
   },
   "source": [
    "## 3. 使用微调的数据集进行推理\n",
    "在完成微调任务之后，我们可以查看到 `output` 文件夹下多了很多个`checkpoint-*`的文件夹，这些文件夹代表了训练的轮数。\n",
    "我们选择最后一轮的微调权重，并使用inference进行导入。"
   ]
  },
  {
   "cell_type": "code",
   "execution_count": 3,
   "id": "3f22b735175e1c0d",
   "metadata": {
    "ExecuteTime": {
     "end_time": "2024-01-18T07:03:19.390123Z",
     "start_time": "2024-01-18T07:03:19.246666Z"
    },
    "collapsed": false,
    "execution": {
     "iopub.execute_input": "2024-03-27T06:16:36.703637Z",
     "iopub.status.busy": "2024-03-27T06:16:36.703146Z",
     "iopub.status.idle": "2024-03-27T06:16:36.830628Z",
     "shell.execute_reply": "2024-03-27T06:16:36.829195Z",
     "shell.execute_reply.started": "2024-03-27T06:16:36.703584Z"
    },
    "jupyter": {
     "outputs_hidden": false
    }
   },
   "outputs": [
    {
     "name": "stdout",
     "output_type": "stream",
     "text": [
      "checkpoint-1000  checkpoint-2000  checkpoint-3000\n"
     ]
    }
   ],
   "source": [
    "!ls output/"
   ]
  },
  {
   "cell_type": "code",
   "execution_count": 4,
   "id": "5060015c24e97ae",
   "metadata": {
    "ExecuteTime": {
     "end_time": "2024-01-18T07:08:13.616364Z",
     "start_time": "2024-01-18T07:07:07.346906Z"
    },
    "collapsed": false,
    "execution": {
     "iopub.execute_input": "2024-03-27T06:16:36.833131Z",
     "iopub.status.busy": "2024-03-27T06:16:36.832655Z",
     "iopub.status.idle": "2024-03-27T06:16:52.975993Z",
     "shell.execute_reply": "2024-03-27T06:16:52.974599Z",
     "shell.execute_reply.started": "2024-03-27T06:16:36.833076Z"
    },
    "jupyter": {
     "outputs_hidden": false
    }
   },
   "outputs": [
    {
     "name": "stdout",
     "output_type": "stream",
     "text": [
      "Loading checkpoint shards: 100%|██████████████████| 7/7 [00:03<00:00,  2.31it/s]\n",
      "这款连衣裙是经典的一字肩款，搭配上透视网纱，性感又浪漫，而木耳边和压褶的设计，又显得格外的别致。而肩部与袖子的拼接设计，更是增加了整件裙子的层次感，显得格外的灵动。而肩部的拉链设计，更是增加了整件裙子的时尚感，搭配上不规则的裙摆，更是增加了整件裙子的灵动感，穿起来非常的显瘦。\n"
     ]
    }
   ],
   "source": [
    "!export python_dir='/home/yuxiang/miniconda3/envs/py311_llm_dev/bin' \\\n",
    "&& export CUDA_VISIBLE_DEVICES=0 \\\n",
    "&& ${python_dir}/python3  inference_hf.py output/checkpoint-3000/ --prompt \"类型#裙*版型#显瘦*材质#网纱*风格#性感*裙型#百褶*裙下摆#压褶*裙长#连衣裙*裙衣门襟#拉链*裙衣门襟#套头*裙款式#拼接*裙款式#拉链*裙款式#木耳边*裙款式#抽褶*裙款式#不规则\""
   ]
  },
  {
   "cell_type": "markdown",
   "id": "18cd83087f096094",
   "metadata": {
    "collapsed": false,
    "jupyter": {
     "outputs_hidden": false
    }
   },
   "source": [
    "## 4. 总结\n",
    "到此位置，我们就完成了使用单张 GPU Lora 来微调 ChatGLM3-6B 模型，使其能生产出更好的广告。\n",
    "在本章节中，你将会学会：\n",
    "+ 如何使用模型进行 Lora 微调\n",
    "+ 微调数据集的准备和对齐\n",
    "+ 使用微调的模型进行推理"
   ]
  }
 ],
 "metadata": {
  "kernelspec": {
   "display_name": "Python 3 (ipykernel)",
   "language": "python",
   "name": "python3"
  },
  "language_info": {
   "codemirror_mode": {
    "name": "ipython",
    "version": 3
   },
   "file_extension": ".py",
   "mimetype": "text/x-python",
   "name": "python",
   "nbconvert_exporter": "python",
   "pygments_lexer": "ipython3",
   "version": "3.11.7"
  }
 },
 "nbformat": 4,
 "nbformat_minor": 5
}
